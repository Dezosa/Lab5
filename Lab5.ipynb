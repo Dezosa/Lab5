{
 "cells": [
  {
   "cell_type": "markdown",
   "id": "57ce141c",
   "metadata": {
    "id": "57ce141c"
   },
   "source": [
    "# <font color=darkblue> Machine Learning model deployment with Flask framework on Heroku</font>"
   ]
  },
  {
   "cell_type": "markdown",
   "id": "ba1bdb38",
   "metadata": {
    "id": "ba1bdb38"
   },
   "source": [
    "## <font color=Blue>Used Cars Price Prediction Application</font>"
   ]
  },
  {
   "cell_type": "markdown",
   "id": "6492286d",
   "metadata": {
    "id": "6492286d"
   },
   "source": [
    "### Objective:\n",
    "1. To build a Machine learning regression model to predict the selling price of the used cars based on the different input features like fuel_type, kms_driven, type of transmission etc.\n",
    "2. Deploy the machine learning model with flask framework on heroku."
   ]
  },
  {
   "cell_type": "markdown",
   "id": "6fa174ee",
   "metadata": {
    "id": "6fa174ee"
   },
   "source": [
    "### Dataset Information:\n",
    "#### Dataset Source: https://www.kaggle.com/datasets/nehalbirla/vehicle-dataset-from-cardekho?select=CAR+DETAILS+FROM+CAR+DEKHO.csv\n",
    "This dataset contains information about used cars listed on www.cardekho.com\n",
    "- **Car_Name**: Name of the car\n",
    "- **Year**: Year of Purchase\n",
    "- **Selling Price (target)**: Selling price of the car in lakhs\n",
    "- **Present Price**: Present price of the car in lakhs\n",
    "- **Kms_Driven**: kilometers driven\n",
    "- **Fuel_Type**: Petrol/diesel/CNG\n",
    "- **Seller_Type**: Dealer or Indiviual\n",
    "- **Transmission**: Manual or Automatic\n",
    "- **Owner**: first, second or third owner\n"
   ]
  },
  {
   "cell_type": "markdown",
   "id": "e4059ba6",
   "metadata": {
    "id": "e4059ba6"
   },
   "source": [
    "### 1. Import required libraries"
   ]
  },
  {
   "cell_type": "code",
   "execution_count": 25,
   "id": "a32ca0c8",
   "metadata": {},
   "outputs": [
    {
     "name": "stdout",
     "output_type": "stream",
     "text": [
      "Collecting gunicorn\n",
      "  Downloading gunicorn-20.1.0-py3-none-any.whl (79 kB)\n",
      "                                              0.0/79.5 kB ? eta -:--:--\n",
      "     ---------------                          30.7/79.5 kB ? eta -:--:--\n",
      "     ---------------                          30.7/79.5 kB ? eta -:--:--\n",
      "     ----------------------------------     71.7/79.5 kB 653.6 kB/s eta 0:00:01\n",
      "     -------------------------------------- 79.5/79.5 kB 491.4 kB/s eta 0:00:00\n",
      "Requirement already satisfied: setuptools>=3.0 in c:\\users\\91733\\appdata\\local\\programs\\python\\python310\\lib\\site-packages (from gunicorn) (65.5.0)\n",
      "Installing collected packages: gunicorn\n",
      "Successfully installed gunicorn-20.1.0\n",
      "Note: you may need to restart the kernel to use updated packages.\n"
     ]
    }
   ],
   "source": [
    "pip install gunicorn"
   ]
  },
  {
   "cell_type": "code",
   "execution_count": 1,
   "id": "f6ee2764",
   "metadata": {
    "id": "f6ee2764"
   },
   "outputs": [],
   "source": [
    "from flask import Flask, render_template, request, jsonify\n",
    "import pickle\n",
    "import numpy as np\n",
    "import sklearn\n",
    "import pandas as pd\n",
    "from sklearn.model_selection import train_test_split\n",
    "from sklearn.ensemble import RandomForestRegressor\n",
    "from sklearn.metrics import r2_score\n",
    "from bs4 import BeautifulSoup\n",
    "import webbrowser\n",
    "import app"
   ]
  },
  {
   "cell_type": "markdown",
   "id": "8c79a95e",
   "metadata": {
    "id": "8c79a95e"
   },
   "source": [
    "### 2. Load the dataset"
   ]
  },
  {
   "cell_type": "code",
   "execution_count": 4,
   "id": "9a1a9544",
   "metadata": {
    "id": "9a1a9544"
   },
   "outputs": [
    {
     "name": "stdout",
     "output_type": "stream",
     "text": [
      "  Car_Name  Year  Selling_Price  Present_Price  Kms_Driven Fuel_Type  \\\n",
      "0     ritz  2014           3.35           5.59       27000    Petrol   \n",
      "1      sx4  2013           4.75           9.54       43000    Diesel   \n",
      "2     ciaz  2017           7.25           9.85        6900    Petrol   \n",
      "3  wagon r  2011           2.85           4.15        5200    Petrol   \n",
      "4    swift  2014           4.60           6.87       42450    Diesel   \n",
      "\n",
      "  Seller_Type Transmission  Owner  \n",
      "0      Dealer       Manual      0  \n",
      "1      Dealer       Manual      0  \n",
      "2      Dealer       Manual      0  \n",
      "3      Dealer       Manual      0  \n",
      "4      Dealer       Manual      0  \n"
     ]
    }
   ],
   "source": [
    "df = pd.read_csv('car+data.csv',encoding='unicode_escape')\n",
    "print(df.head())"
   ]
  },
  {
   "cell_type": "markdown",
   "id": "13204bc7",
   "metadata": {
    "id": "13204bc7"
   },
   "source": [
    "### 3. Check the shape and basic information of the dataset."
   ]
  },
  {
   "cell_type": "code",
   "execution_count": 5,
   "id": "dd100657",
   "metadata": {
    "id": "dd100657"
   },
   "outputs": [
    {
     "name": "stdout",
     "output_type": "stream",
     "text": [
      "Shape of the dataset (301, 9)\n",
      "******************************\n",
      "<class 'pandas.core.frame.DataFrame'>\n",
      "RangeIndex: 301 entries, 0 to 300\n",
      "Data columns (total 9 columns):\n",
      " #   Column         Non-Null Count  Dtype  \n",
      "---  ------         --------------  -----  \n",
      " 0   Car_Name       301 non-null    object \n",
      " 1   Year           301 non-null    int64  \n",
      " 2   Selling_Price  301 non-null    float64\n",
      " 3   Present_Price  301 non-null    float64\n",
      " 4   Kms_Driven     301 non-null    int64  \n",
      " 5   Fuel_Type      301 non-null    object \n",
      " 6   Seller_Type    301 non-null    object \n",
      " 7   Transmission   301 non-null    object \n",
      " 8   Owner          301 non-null    int64  \n",
      "dtypes: float64(2), int64(3), object(4)\n",
      "memory usage: 21.3+ KB\n",
      "None\n"
     ]
    }
   ],
   "source": [
    "def basic_info(df):\n",
    "    '''checking basic information & shape about the dataframe'''\n",
    "    temp=df.copy(deep=True)\n",
    "    print(\"Shape of the dataset\",df.shape)\n",
    "    print(\"*\"*30)\n",
    "    print(df.info())\n",
    "    \n",
    "basic_info(df)"
   ]
  },
  {
   "cell_type": "markdown",
   "id": "e69c8bc1",
   "metadata": {
    "id": "e69c8bc1"
   },
   "source": [
    "### 4. Check for the presence of the duplicate records in the dataset? If present drop them"
   ]
  },
  {
   "cell_type": "code",
   "execution_count": 9,
   "id": "d0456bdd",
   "metadata": {
    "id": "d0456bdd"
   },
   "outputs": [
    {
     "name": "stdout",
     "output_type": "stream",
     "text": [
      "Number of duplicate rows: 2\n"
     ]
    }
   ],
   "source": [
    "# Check for duplicate rows\n",
    "duplicate_rows = df.duplicated()\n",
    "\n",
    "# Count the number of duplicate rows\n",
    "num_duplicate_rows = duplicate_rows.sum()\n",
    "print(f\"Number of duplicate rows: {num_duplicate_rows}\")\n",
    "\n",
    "# Drop duplicate rows\n",
    "df_deduplicated = df.drop_duplicates()"
   ]
  },
  {
   "cell_type": "markdown",
   "id": "ef965d82",
   "metadata": {
    "id": "ef965d82"
   },
   "source": [
    "### 5. Drop the columns which you think redundant for the analysis."
   ]
  },
  {
   "cell_type": "code",
   "execution_count": 10,
   "id": "48e26af1",
   "metadata": {
    "id": "48e26af1"
   },
   "outputs": [
    {
     "name": "stdout",
     "output_type": "stream",
     "text": [
      "   Year  Selling_Price  Present_Price  Kms_Driven Fuel_Type Transmission\n",
      "0  2014           3.35           5.59       27000    Petrol       Manual\n",
      "1  2013           4.75           9.54       43000    Diesel       Manual\n",
      "2  2017           7.25           9.85        6900    Petrol       Manual\n",
      "3  2011           2.85           4.15        5200    Petrol       Manual\n",
      "4  2014           4.60           6.87       42450    Diesel       Manual\n"
     ]
    }
   ],
   "source": [
    "# List of redundant columns to drop\n",
    "redundant_columns = ['Car_Name', 'Seller_Type', 'Owner']\n",
    "\n",
    "# Drop the redundant columns\n",
    "df.drop(redundant_columns, axis=1, inplace=True)\n",
    "\n",
    "# Display the updated DataFrame\n",
    "print(df.head())"
   ]
  },
  {
   "cell_type": "markdown",
   "id": "38e4a84d",
   "metadata": {
    "id": "38e4a84d"
   },
   "source": [
    "### 6. Extract a new feature called 'age_of_the_car' from the feature 'year' and drop the feature year"
   ]
  },
  {
   "cell_type": "code",
   "execution_count": 13,
   "id": "eff4fb15",
   "metadata": {
    "id": "eff4fb15"
   },
   "outputs": [
    {
     "name": "stdout",
     "output_type": "stream",
     "text": [
      "   Selling_Price  Present_Price  Kms_Driven Fuel_Type Transmission  \\\n",
      "0           3.35           5.59       27000    Petrol       Manual   \n",
      "1           4.75           9.54       43000    Diesel       Manual   \n",
      "2           7.25           9.85        6900    Petrol       Manual   \n",
      "3           2.85           4.15        5200    Petrol       Manual   \n",
      "4           4.60           6.87       42450    Diesel       Manual   \n",
      "\n",
      "   age_of_the_car  \n",
      "0               9  \n",
      "1              10  \n",
      "2               6  \n",
      "3              12  \n",
      "4               9  \n"
     ]
    }
   ],
   "source": [
    "# Extract the 'age_of_the_car' feature\n",
    "current_year = pd.to_datetime('today').year\n",
    "df['age_of_the_car'] = current_year - df['Year']\n",
    "\n",
    "# Drop the 'year' feature\n",
    "df.drop('Year', axis=1, inplace=True)\n",
    "\n",
    "# Display the updated DataFrame\n",
    "print(df.head())"
   ]
  },
  {
   "cell_type": "markdown",
   "id": "b14100a4",
   "metadata": {
    "id": "b14100a4"
   },
   "source": [
    "### 7. Encode the categorical columns"
   ]
  },
  {
   "cell_type": "code",
   "execution_count": 14,
   "id": "14f8a038",
   "metadata": {
    "id": "14f8a038"
   },
   "outputs": [
    {
     "name": "stdout",
     "output_type": "stream",
     "text": [
      "   Selling_Price  Present_Price  Kms_Driven  age_of_the_car  Fuel_Type_Diesel  \\\n",
      "0           3.35           5.59       27000               9             False   \n",
      "1           4.75           9.54       43000              10              True   \n",
      "2           7.25           9.85        6900               6             False   \n",
      "3           2.85           4.15        5200              12             False   \n",
      "4           4.60           6.87       42450               9              True   \n",
      "\n",
      "   Fuel_Type_Petrol  Transmission_Manual  \n",
      "0              True                 True  \n",
      "1             False                 True  \n",
      "2              True                 True  \n",
      "3              True                 True  \n",
      "4             False                 True  \n",
      "   Selling_Price  Present_Price  Kms_Driven  Fuel_Type  Transmission  \\\n",
      "0           3.35           5.59       27000          2             1   \n",
      "1           4.75           9.54       43000          1             1   \n",
      "2           7.25           9.85        6900          2             1   \n",
      "3           2.85           4.15        5200          2             1   \n",
      "4           4.60           6.87       42450          1             1   \n",
      "\n",
      "   age_of_the_car  \n",
      "0               9  \n",
      "1              10  \n",
      "2               6  \n",
      "3              12  \n",
      "4               9  \n"
     ]
    }
   ],
   "source": [
    "# Categorical columns to encode\n",
    "categorical_columns = ['Fuel_Type', 'Transmission']\n",
    "\n",
    "# One-hot encoding\n",
    "df_encoded = pd.get_dummies(df, columns=categorical_columns, drop_first=True)\n",
    "\n",
    "# Label encoding\n",
    "from sklearn.preprocessing import LabelEncoder\n",
    "\n",
    "label_encoder = LabelEncoder()\n",
    "for column in categorical_columns:\n",
    "    df[column] = label_encoder.fit_transform(df[column])\n",
    "\n",
    "# Display the encoded DataFrame\n",
    "print(df_encoded.head())\n",
    "print(df.head())"
   ]
  },
  {
   "cell_type": "markdown",
   "id": "0cf17c9e",
   "metadata": {
    "id": "0cf17c9e"
   },
   "source": [
    "### 8. Separate the target and independent features."
   ]
  },
  {
   "cell_type": "code",
   "execution_count": 15,
   "id": "2000d472",
   "metadata": {
    "id": "2000d472"
   },
   "outputs": [
    {
     "name": "stdout",
     "output_type": "stream",
     "text": [
      "Target variable (Selling_Price):\n",
      "0    3.35\n",
      "1    4.75\n",
      "2    7.25\n",
      "3    2.85\n",
      "4    4.60\n",
      "Name: Selling_Price, dtype: float64\n",
      "\n",
      "Independent features:\n",
      "   Present_Price  Kms_Driven  Fuel_Type  Transmission  age_of_the_car\n",
      "0           5.59       27000          2             1               9\n",
      "1           9.54       43000          1             1              10\n",
      "2           9.85        6900          2             1               6\n",
      "3           4.15        5200          2             1              12\n",
      "4           6.87       42450          1             1               9\n"
     ]
    }
   ],
   "source": [
    "# Separate the target variable (selling price)\n",
    "target = df['Selling_Price']\n",
    "\n",
    "# Separate the independent features\n",
    "features = df.drop('Selling_Price', axis=1)\n",
    "\n",
    "# Display the target variable and independent features\n",
    "print(\"Target variable (Selling_Price):\")\n",
    "print(target.head())\n",
    "\n",
    "print(\"\\nIndependent features:\")\n",
    "print(features.head())"
   ]
  },
  {
   "cell_type": "markdown",
   "id": "a7962944",
   "metadata": {
    "id": "a7962944"
   },
   "source": [
    "### 9. Split the data into train and test."
   ]
  },
  {
   "cell_type": "code",
   "execution_count": 17,
   "id": "b8ee4942",
   "metadata": {
    "id": "b8ee4942"
   },
   "outputs": [
    {
     "name": "stdout",
     "output_type": "stream",
     "text": [
      "Train set shape: (240, 5) (240,)\n",
      "Test set shape: (61, 5) (61,)\n"
     ]
    }
   ],
   "source": [
    "# Separate the target variable (selling price)\n",
    "target = df['Selling_Price']\n",
    "\n",
    "# Separate the independent features\n",
    "features = df.drop('Selling_Price', axis=1)\n",
    "\n",
    "# Split the data into train and test sets\n",
    "X_train, X_test, y_train, y_test = train_test_split(features, target, test_size=0.2, random_state=42)\n",
    "\n",
    "# Display the shapes of the train and test sets\n",
    "print(\"Train set shape:\", X_train.shape, y_train.shape)\n",
    "print(\"Test set shape:\", X_test.shape, y_test.shape)"
   ]
  },
  {
   "cell_type": "markdown",
   "id": "0bebd320",
   "metadata": {
    "id": "0bebd320"
   },
   "source": [
    "### 10. Build a Random forest Regressor model and check the r2-score for train and test."
   ]
  },
  {
   "cell_type": "code",
   "execution_count": 19,
   "id": "22e9ba62",
   "metadata": {
    "id": "22e9ba62"
   },
   "outputs": [
    {
     "name": "stdout",
     "output_type": "stream",
     "text": [
      "R2 score for training set: 0.9839300078516847\n",
      "R2 score for testing set: 0.9595325251293787\n"
     ]
    }
   ],
   "source": [
    "# Create and train the Random Forest Regressor model\n",
    "model = RandomForestRegressor(random_state=42)\n",
    "model.fit(X_train, y_train)\n",
    "\n",
    "# Make predictions on the training and testing sets\n",
    "y_train_pred = model.predict(X_train)\n",
    "y_test_pred = model.predict(X_test)\n",
    "\n",
    "# Calculate the R2 score for the training and testing sets\n",
    "r2_train = r2_score(y_train, y_train_pred)\n",
    "r2_test = r2_score(y_test, y_test_pred)\n",
    "\n",
    "# Display the R2 score for the training and testing sets\n",
    "print(\"R2 score for training set:\", r2_train)\n",
    "print(\"R2 score for testing set:\", r2_test)"
   ]
  },
  {
   "cell_type": "markdown",
   "id": "26e089c8",
   "metadata": {
    "id": "26e089c8"
   },
   "source": [
    "### 11. Create a pickle file with an extension as .pkl"
   ]
  },
  {
   "cell_type": "code",
   "execution_count": 21,
   "id": "41d6bb75",
   "metadata": {
    "id": "41d6bb75"
   },
   "outputs": [
    {
     "name": "stdout",
     "output_type": "stream",
     "text": [
      "Pickle file saved as model.pkl\n"
     ]
    }
   ],
   "source": [
    "# Path to save the pickle file\n",
    "file_path = 'model.pkl'\n",
    "\n",
    "# Create and save the pickle file\n",
    "with open(file_path, 'wb') as file:\n",
    "    pickle.dump(df, file)\n",
    "\n",
    "print(f'Pickle file saved as {file_path}')"
   ]
  },
  {
   "cell_type": "markdown",
   "id": "af654594",
   "metadata": {
    "id": "af654594"
   },
   "source": [
    "### 12. Create new folder/new project in visual studio/pycharm that should contain the \"model.pkl\" file *make sure you are using a virutal environment and install required packages.*"
   ]
  },
  {
   "cell_type": "markdown",
   "id": "c0b7bd95",
   "metadata": {
    "id": "c0b7bd95"
   },
   "source": [
    "### a) Create a basic HTML form for the frontend"
   ]
  },
  {
   "cell_type": "markdown",
   "id": "5a7a95db",
   "metadata": {
    "id": "5a7a95db"
   },
   "source": [
    "Create a file **index.html** in the templates folder and copy the following code."
   ]
  },
  {
   "cell_type": "code",
   "execution_count": 7,
   "id": "f8137aa6",
   "metadata": {},
   "outputs": [
    {
     "name": "stdout",
     "output_type": "stream",
     "text": [
      "Document\n"
     ]
    }
   ],
   "source": [
    "# Read the HTML file\n",
    "with open('index.html', 'r') as file:\n",
    "    html_content = file.read()\n",
    "\n",
    "# Parse the HTML content\n",
    "soup = BeautifulSoup(html_content, 'html.parser')\n",
    "\n",
    "# Access and manipulate the HTML elements\n",
    "# Example: Print the title of the HTML document\n",
    "title = soup.title\n",
    "print(title.text)\n"
   ]
  },
  {
   "cell_type": "code",
   "execution_count": 22,
   "id": "020051ba",
   "metadata": {},
   "outputs": [
    {
     "data": {
      "text/plain": [
       "True"
      ]
     },
     "execution_count": 22,
     "metadata": {},
     "output_type": "execute_result"
    }
   ],
   "source": [
    "html_file = ('C:/Users/91733/OneDrive/Desktop/GL/Resummission/Lab5/index.html')\n",
    "# Open the HTML file in the default web browser\n",
    "webbrowser.open('file://' + html_file)"
   ]
  },
  {
   "cell_type": "markdown",
   "id": "2844d781",
   "metadata": {
    "id": "2844d781"
   },
   "source": [
    "### b) Create app.py file and write the predict function"
   ]
  },
  {
   "cell_type": "markdown",
   "id": "028ed8de",
   "metadata": {
    "id": "028ed8de"
   },
   "source": [
    "### 13. Deploy your app on Heroku. (write commands for deployment)"
   ]
  },
  {
   "cell_type": "code",
   "execution_count": null,
   "id": "8997b74d",
   "metadata": {
    "id": "8997b74d"
   },
   "outputs": [],
   "source": []
  },
  {
   "cell_type": "markdown",
   "id": "80008b60",
   "metadata": {
    "id": "80008b60"
   },
   "source": [
    "### 14. Paste the URL of the heroku application below, and while submitting the solution submit this notebook along with the source code."
   ]
  },
  {
   "cell_type": "code",
   "execution_count": null,
   "id": "dc9ccccf",
   "metadata": {
    "id": "dc9ccccf"
   },
   "outputs": [],
   "source": []
  },
  {
   "cell_type": "markdown",
   "id": "c5a533a5",
   "metadata": {
    "id": "c5a533a5"
   },
   "source": [
    "### Happy Learning :)"
   ]
  }
 ],
 "metadata": {
  "colab": {
   "collapsed_sections": [],
   "name": "Lab Session.ipynb",
   "provenance": []
  },
  "kernelspec": {
   "display_name": "Python 3 (ipykernel)",
   "language": "python",
   "name": "python3"
  },
  "language_info": {
   "codemirror_mode": {
    "name": "ipython",
    "version": 3
   },
   "file_extension": ".py",
   "mimetype": "text/x-python",
   "name": "python",
   "nbconvert_exporter": "python",
   "pygments_lexer": "ipython3",
   "version": "3.10.10"
  }
 },
 "nbformat": 4,
 "nbformat_minor": 5
}
